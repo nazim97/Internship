{
 "cells": [
  {
   "cell_type": "code",
   "execution_count": 11,
   "id": "cd5d848b",
   "metadata": {},
   "outputs": [
    {
     "name": "stdout",
     "output_type": "stream",
     "text": [
      "'data12' is valid.\n",
      "'aBcr56fG' is valid.\n",
      "'123456' is valid.\n",
      "'DATA traine' is invalid.\n",
      "'!@#$%' is invalid.\n",
      "'ABC123_' is invalid.\n"
     ]
    }
   ],
   "source": [
    "1\n",
    "import re\n",
    "def validate_string(input_string):\n",
    "    pattern = re.compile(\"^[a-zA-Z0-9]+$\")\n",
    "    return bool(pattern.match(input_string)) \n",
    "test_strings = [\"data12\", \"aBcr56fG\", \"123456\", \"DATA traine\", \"!@#$%\", \"ABC123_\"]\n",
    "for test_string in test_strings:\n",
    "    if validate_string(test_string):\n",
    "        print(f\"'{test_string}' is valid.\")\n",
    "    else:\n",
    "        print(f\"'{test_string}' is invalid.\")"
   ]
  },
  {
   "cell_type": "code",
   "execution_count": 12,
   "id": "6b40ef88",
   "metadata": {},
   "outputs": [
    {
     "name": "stdout",
     "output_type": "stream",
     "text": [
      "enter a string rabbit\n",
      "it's a match\n"
     ]
    }
   ],
   "source": [
    "2.\n",
    "import re\n",
    "my_string = input('enter a string ')\n",
    "p = re.compile('ab*?')\n",
    "m = p.search(my_string)\n",
    "if m:\n",
    "    print('it\\'s a match')\n",
    "else:\n",
    "    print('no match found')\n"
   ]
  },
  {
   "cell_type": "code",
   "execution_count": 18,
   "id": "7b70e954",
   "metadata": {},
   "outputs": [
    {
     "name": "stdout",
     "output_type": "stream",
     "text": [
      "enter a string database\n",
      "it's a match\n"
     ]
    }
   ],
   "source": [
    "3.\n",
    "import re\n",
    "my_string = input('enter a string ')\n",
    "p = re.compile('ab+?')\n",
    "m = p.search(my_string)\n",
    "if m:\n",
    "    print('it\\'s a match')\n",
    "else:\n",
    "    print('no match found')\n"
   ]
  },
  {
   "cell_type": "code",
   "execution_count": 5,
   "id": "8fce8f46",
   "metadata": {},
   "outputs": [
    {
     "name": "stdout",
     "output_type": "stream",
     "text": [
      "enter a string expression\n",
      "no match found\n"
     ]
    }
   ],
   "source": [
    "4\n",
    "import re\n",
    "my_string = input('enter a string ')\n",
    "p = re.compile('ab??')\n",
    "m = p.search(my_string)\n",
    "if m:\n",
    "    print('it\\'s a match')\n",
    "else:\n",
    "    print('no match found')\n"
   ]
  },
  {
   "cell_type": "code",
   "execution_count": 4,
   "id": "fdcea3fc",
   "metadata": {},
   "outputs": [
    {
     "name": "stdout",
     "output_type": "stream",
     "text": [
      "enter a string aaa, ababab,bbb\n",
      "no match found\n"
     ]
    }
   ],
   "source": [
    "5.\n",
    "my_string = input('enter a string ')\n",
    "p = re.compile('ab{3}?')\n",
    "m = p.search(my_string)\n",
    "if m:\n",
    "    print('it\\'s a match')\n",
    "else:\n",
    "    print('no match found')\n"
   ]
  },
  {
   "cell_type": "code",
   "execution_count": 11,
   "id": "9165f69a",
   "metadata": {},
   "outputs": [
    {
     "name": "stdout",
     "output_type": "stream",
     "text": [
      "enter a string abb\", \"abbb\", \"aabb\"\n",
      "it's a match\n"
     ]
    }
   ],
   "source": [
    "6\n",
    "import re\n",
    "my_string = input('enter a string ')\n",
    "p = re.compile('ab{2,3}?')\n",
    "m = p.search(my_string)\n",
    "if m:\n",
    "    print('it\\'s a match')\n",
    "else:\n",
    "    print('no match found')\n",
    "\n",
    "    \n"
   ]
  },
  {
   "cell_type": "code",
   "execution_count": 14,
   "id": "f0556b87",
   "metadata": {},
   "outputs": [
    {
     "name": "stdout",
     "output_type": "stream",
     "text": [
      "enter a string all the best\n",
      "no match found\n"
     ]
    }
   ],
   "source": [
    "7\n",
    "import re\n",
    "my_string = input('enter a string ')\n",
    "p = re.compile('a.*?b$')\n",
    "m = p.search(my_string)\n",
    "if m:\n",
    "    print('it\\'s a match')\n",
    "else:\n",
    "    print('no match found')\n"
   ]
  },
  {
   "cell_type": "code",
   "execution_count": 17,
   "id": "ad1b34a8",
   "metadata": {},
   "outputs": [
    {
     "name": "stdout",
     "output_type": "stream",
     "text": [
      "enter a string _)(@(#$*\n",
      "it's a match\n"
     ]
    }
   ],
   "source": [
    "8\n",
    "import re\n",
    "my_string = input('enter a string ')\n",
    "m = re.match('^\\w+', my_string)\n",
    "if m:\n",
    "    print('it\\'s a match')\n",
    "else:\n",
    "    print('no match found') \n"
   ]
  },
  {
   "cell_type": "code",
   "execution_count": 20,
   "id": "f5a4e603",
   "metadata": {},
   "outputs": [
    {
     "name": "stdout",
     "output_type": "stream",
     "text": [
      "enter a string ayesha143\n",
      "no match found\n"
     ]
    }
   ],
   "source": [
    "9\n",
    "import re\n",
    "my_string = input('enter a string ')\n",
    "m = re.search('\\b\\w+[.!?,;]*$', my_string)\n",
    "if m:\n",
    "    print('it\\'s a match')\n",
    "else:\n",
    "    print('no match found')\n",
    "\n"
   ]
  },
  {
   "cell_type": "code",
   "execution_count": 19,
   "id": "8e936913",
   "metadata": {},
   "outputs": [
    {
     "name": "stdout",
     "output_type": "stream",
     "text": [
      "['0132', '1458', '2725']\n"
     ]
    }
   ],
   "source": [
    "10\n",
    "import re\n",
    "\n",
    "sample_text = '01 0132 231875 1458 301 2725.'\n",
    "pattern = r'\\b\\d{4}\\b'  \n",
    "\n",
    "matches = re.findall(pattern, sample_text)\n",
    "print(matches)\n"
   ]
  },
  {
   "cell_type": "code",
   "execution_count": null,
   "id": "47a42df0",
   "metadata": {},
   "outputs": [],
   "source": []
  }
 ],
 "metadata": {
  "kernelspec": {
   "display_name": "Python 3 (ipykernel)",
   "language": "python",
   "name": "python3"
  },
  "language_info": {
   "codemirror_mode": {
    "name": "ipython",
    "version": 3
   },
   "file_extension": ".py",
   "mimetype": "text/x-python",
   "name": "python",
   "nbconvert_exporter": "python",
   "pygments_lexer": "ipython3",
   "version": "3.10.9"
  }
 },
 "nbformat": 4,
 "nbformat_minor": 5
}
